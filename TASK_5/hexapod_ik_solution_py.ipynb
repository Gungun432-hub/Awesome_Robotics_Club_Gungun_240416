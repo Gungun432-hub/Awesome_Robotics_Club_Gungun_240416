{
  "nbformat": 4,
  "nbformat_minor": 0,
  "metadata": {
    "colab": {
      "provenance": []
    },
    "kernelspec": {
      "name": "python3",
      "display_name": "Python 3"
    },
    "language_info": {
      "name": "python"
    }
  },
  "cells": [
    {
      "cell_type": "markdown",
      "source": [
        "## **Inverse Kinematics Implementation**"
      ],
      "metadata": {
        "id": "EySfbjeuhco3"
      }
    },
    {
      "cell_type": "code",
      "execution_count": 1,
      "metadata": {
        "id": "TqvLGJfuhUpo"
      },
      "outputs": [],
      "source": [
        "import numpy as np\n",
        "import math"
      ]
    },
    {
      "cell_type": "code",
      "source": [
        "L1 = 5.0 #coxa\n",
        "L2 = 10.0 #femur\n",
        "L3 = 15.0 #tibia"
      ],
      "metadata": {
        "id": "8aKd6_mVh3Ai"
      },
      "execution_count": 2,
      "outputs": []
    },
    {
      "cell_type": "markdown",
      "source": [
        "*We will calculate joint angles for the 3-DOF hexapod leg so as to position the foot at the target position coordiante  x y z which returns three angles in degree*"
      ],
      "metadata": {
        "id": "HYoX4OnDiDbP"
      }
    },
    {
      "cell_type": "code",
      "source": [
        "def inverse_kinematics(x, y, z):\n",
        "  distance = np.sqrt(x**2 + y**2 + z**2)   #Total distance from origin\n",
        "  maxima = L1 + L2 + L3\n",
        "  #for checking if point is reachable\n",
        "  if distance > maxima:\n",
        "    return None\n",
        "  minima = max(0, L1 - L2 - L3)\n",
        "  if distance < minima:\n",
        "    return None\n",
        "  #calculating coxa angle alpha\n",
        "  alpha =  math.atan2(y, x)\n",
        "\n",
        "  x_prime = math.sqrt(x**2 + y**2) - L1  # it is the  distance from coxa joint to projection of end point\n",
        "  h = z #its the height from base palne\n",
        "  #now to calculate the distance from femur tibia joint to traget point\n",
        "  d = math.sqrt(x_prime**2 + h**2)\n",
        "  if d > L2 + L3:\n",
        "   return None  #it becomes unreachable by femur and tibia\n",
        "\n",
        "  #calculating femur angle beta and ensuring it lies within domain\n",
        "  cos_beta_part = (L2**2 + d**2 - L3**2) / (2 * L2 * d)\n",
        "  cos_beta_part = max(min(cos_beta_part, 1.0), -1.0)\n",
        "  beta_part = math.acos(cos_beta_part)\n",
        "  beta_offset = math.atan2(h, x_prime)\n",
        "  beta = beta_part + beta_offset\n",
        "  #here i calculated the angle between the femur and the ground plane + angle between the ground plane and the line to the target\n",
        "\n",
        "  #calculating tibia angle gamma\n",
        "  cos_gamma = (L2**2 + L3**2 - d**2) / (2 * L2 * L3)\n",
        "  cos_gamma = max(min(cos_gamma, 1.0), -1.0)\n",
        "  gamma = math.acos(cos_gamma)\n",
        "\n",
        "  #converting from radians to degree to 2 decimal place\n",
        "  alpha_deg = round(math.degrees(alpha), 2)\n",
        "  beta_deg = round(math.degrees(beta), 2)\n",
        "  gamma_deg = round(math.degrees(gamma), 2)\n",
        "\n",
        "  return (alpha_deg, beta_deg, gamma_deg)"
      ],
      "metadata": {
        "id": "cNN2eTSHiCuO"
      },
      "execution_count": 6,
      "outputs": []
    },
    {
      "cell_type": "markdown",
      "source": [
        "## **Testing**"
      ],
      "metadata": {
        "id": "u9fvXNqGqmYl"
      }
    },
    {
      "cell_type": "code",
      "source": [
        "def test_ik():\n",
        "  test_cases = [\n",
        "    (15, 10, 5),  #1.point withhin reachable area\n",
        "    (5, 3, 2),    #2.point close to base\n",
        "    (28, 0 , 0),  #3.point near the maximum reach of the leg\n",
        "    (40, 0, 0),   #4. unreachable point as it exceeds L1+L2+L3\n",
        "    (10, 10, -15) #5. point with large negative z\n",
        "  ]\n",
        "  print(\"HEXAPOD LEG INVERSE KINEMATICS TEST RESULTS\")\n",
        "  print(\"-\" * 50)\n",
        "  for i, (x, y, z) in enumerate(test_cases, 1):\n",
        "    print(f\"Test {i}:\")\n",
        "    print(f\"Input target coordinates: (x={x}, y={y}, z={z})\")\n",
        "    result = inverse_kinematics(x, y, z)\n",
        "\n",
        "    distance = np.sqrt(x**2 + y**2 + z**2)\n",
        "    max_reach = L1 + L2 + L3\n",
        "    if result is None:\n",
        "      print(f\"Result: UNREACHABLE (Distance {distance:.2f} exceeds maximum reach {max_reach})\")\n",
        "    else:\n",
        "      alpha, beta, gamma = result\n",
        "      print(f\"Output joint angles: α={alpha}°, β={beta}°, γ={gamma}°\")\n",
        "      print(f\"Result: REACHABLE\")\n",
        "    print(\"-\" * 50)\n",
        "if __name__ == \"__main__\":\n",
        "  test_ik()\n"
      ],
      "metadata": {
        "colab": {
          "base_uri": "https://localhost:8080/"
        },
        "id": "LnBBQNaqqiSV",
        "outputId": "28960a3f-f6f1-4117-9884-d12416cf9d39"
      },
      "execution_count": 7,
      "outputs": [
        {
          "output_type": "stream",
          "name": "stdout",
          "text": [
            "HEXAPOD LEG INVERSE KINEMATICS TEST RESULTS\n",
            "--------------------------------------------------\n",
            "Test 1:\n",
            "Input target coordinates: (x=15, y=10, z=5)\n",
            "Output joint angles: α=33.69°, β=96.53°, γ=64.26°\n",
            "Result: REACHABLE\n",
            "--------------------------------------------------\n",
            "Test 2:\n",
            "Input target coordinates: (x=5, y=3, z=2)\n",
            "Output joint angles: α=30.96°, β=247.44°, γ=0.0°\n",
            "Result: REACHABLE\n",
            "--------------------------------------------------\n",
            "Test 3:\n",
            "Input target coordinates: (x=28, y=0, z=0)\n",
            "Output joint angles: α=0.0°, β=28.57°, γ=132.84°\n",
            "Result: REACHABLE\n",
            "--------------------------------------------------\n",
            "Test 4:\n",
            "Input target coordinates: (x=40, y=0, z=0)\n",
            "Result: UNREACHABLE (Distance 40.00 exceeds maximum reach 30.0)\n",
            "--------------------------------------------------\n",
            "Test 5:\n",
            "Input target coordinates: (x=10, y=10, z=-15)\n",
            "Output joint angles: α=45.0°, β=-0.14°, γ=86.86°\n",
            "Result: REACHABLE\n",
            "--------------------------------------------------\n"
          ]
        }
      ]
    }
  ]
}